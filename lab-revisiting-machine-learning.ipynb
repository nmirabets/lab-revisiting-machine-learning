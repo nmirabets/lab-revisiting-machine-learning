{
 "cells": [
  {
   "cell_type": "markdown",
   "id": "a4c14f36-b798-482f-b3b5-47ea84946e23",
   "metadata": {},
   "source": [
    "![logo_ironhack_blue 7](https://user-images.githubusercontent.com/23629340/40541063-a07a0a8a-601a-11e8-91b5-2f13e4e6b441.png)\n",
    "\n",
    "# Lab | Revisiting Machine Learning Case Study\n",
    "\n",
    "- In this lab, you will use `learningSet.csv` file which we used during the class. \n",
    "\n",
    "### Instructions\n",
    "\n",
    "Complete the following steps on the categorical columns in the dataset:\n",
    "\n",
    "- Check for null values in all the columns\n",
    "- Create a new empty list called `drop_list`. We will append to this list a set of columns to be droped later. Add the following columns to this:\n",
    "    - `OSOURCE` - symbol definitions not provided, too many categories\n",
    "    - `ZIP` - we are including state already\n",
    "- Identify columns that over 85% missing values and add them to the previous list.\n",
    "- Remove the columns included in the `drop_list` from the dataframe\n",
    "- Now, reduce the number of categories in the column `GENDER`. The column should only have either \"M\" for males, \"F\" for females, and \"other\" for all the rest\n",
    "    - Note that there are a few null values in the column. We will first replace those null values using the code below:\n",
    "\n",
    "    ```python\n",
    "    print(categorical['GENDER'].value_counts())\n",
    "    categorical['GENDER'] = categorical['GENDER'].fillna('F')\n",
    "    ```"
   ]
  },
  {
   "cell_type": "code",
   "execution_count": 1,
   "id": "8dc56769-424c-4913-a8ef-9411bcc0c65e",
   "metadata": {},
   "outputs": [],
   "source": [
    "import pandas as pd\n",
    "\n",
    "import functions"
   ]
  },
  {
   "cell_type": "code",
   "execution_count": 2,
   "id": "8c9961fc-5c5a-4221-9520-fd8c56f0b13e",
   "metadata": {},
   "outputs": [
    {
     "name": "stderr",
     "output_type": "stream",
     "text": [
      "/var/folders/zg/vcnq21zn4cv4pv2ft4lqfk6r0000gn/T/ipykernel_2221/2285174264.py:2: DtypeWarning: Columns (8) have mixed types. Specify dtype option on import or set low_memory=False.\n",
      "  data = pd.read_csv('../learningSet.csv')\n"
     ]
    }
   ],
   "source": [
    "# Load data\n",
    "data = pd.read_csv('../learningSet.csv')"
   ]
  },
  {
   "cell_type": "code",
   "execution_count": 3,
   "id": "3ee25602-2d82-4b9b-84c4-53d10c860996",
   "metadata": {},
   "outputs": [],
   "source": [
    "# Format column names\n",
    "data_formatted = functions.format_column_names(data)"
   ]
  },
  {
   "cell_type": "code",
   "execution_count": 4,
   "id": "8ad11e68-cfdf-495a-9c40-5273a15f25a1",
   "metadata": {},
   "outputs": [
    {
     "data": {
      "text/html": [
       "<div>\n",
       "<style scoped>\n",
       "    .dataframe tbody tr th:only-of-type {\n",
       "        vertical-align: middle;\n",
       "    }\n",
       "\n",
       "    .dataframe tbody tr th {\n",
       "        vertical-align: top;\n",
       "    }\n",
       "\n",
       "    .dataframe thead th {\n",
       "        text-align: right;\n",
       "    }\n",
       "</style>\n",
       "<table border=\"1\" class=\"dataframe\">\n",
       "  <thead>\n",
       "    <tr style=\"text-align: right;\">\n",
       "      <th></th>\n",
       "      <th>column_name</th>\n",
       "      <th>nulls_percentage</th>\n",
       "    </tr>\n",
       "  </thead>\n",
       "  <tbody>\n",
       "    <tr>\n",
       "      <th>414</th>\n",
       "      <td>rdate_5</td>\n",
       "      <td>0.999906</td>\n",
       "    </tr>\n",
       "    <tr>\n",
       "      <th>436</th>\n",
       "      <td>ramnt_5</td>\n",
       "      <td>0.999906</td>\n",
       "    </tr>\n",
       "    <tr>\n",
       "      <th>412</th>\n",
       "      <td>rdate_3</td>\n",
       "      <td>0.997464</td>\n",
       "    </tr>\n",
       "    <tr>\n",
       "      <th>434</th>\n",
       "      <td>ramnt_3</td>\n",
       "      <td>0.997464</td>\n",
       "    </tr>\n",
       "    <tr>\n",
       "      <th>413</th>\n",
       "      <td>rdate_4</td>\n",
       "      <td>0.997055</td>\n",
       "    </tr>\n",
       "    <tr>\n",
       "      <th>...</th>\n",
       "      <td>...</td>\n",
       "      <td>...</td>\n",
       "    </tr>\n",
       "    <tr>\n",
       "      <th>168</th>\n",
       "      <td>ethc3</td>\n",
       "      <td>0.000000</td>\n",
       "    </tr>\n",
       "    <tr>\n",
       "      <th>167</th>\n",
       "      <td>ethc2</td>\n",
       "      <td>0.000000</td>\n",
       "    </tr>\n",
       "    <tr>\n",
       "      <th>166</th>\n",
       "      <td>ethc1</td>\n",
       "      <td>0.000000</td>\n",
       "    </tr>\n",
       "    <tr>\n",
       "      <th>165</th>\n",
       "      <td>hhd12</td>\n",
       "      <td>0.000000</td>\n",
       "    </tr>\n",
       "    <tr>\n",
       "      <th>240</th>\n",
       "      <td>tpe11</td>\n",
       "      <td>0.000000</td>\n",
       "    </tr>\n",
       "  </tbody>\n",
       "</table>\n",
       "<p>481 rows × 2 columns</p>\n",
       "</div>"
      ],
      "text/plain": [
       "    column_name  nulls_percentage\n",
       "414     rdate_5          0.999906\n",
       "436     ramnt_5          0.999906\n",
       "412     rdate_3          0.997464\n",
       "434     ramnt_3          0.997464\n",
       "413     rdate_4          0.997055\n",
       "..          ...               ...\n",
       "168       ethc3          0.000000\n",
       "167       ethc2          0.000000\n",
       "166       ethc1          0.000000\n",
       "165       hhd12          0.000000\n",
       "240       tpe11          0.000000\n",
       "\n",
       "[481 rows x 2 columns]"
      ]
     },
     "execution_count": 4,
     "metadata": {},
     "output_type": "execute_result"
    }
   ],
   "source": [
    "# Create DataFrame with % of null values per column\n",
    "nulls_percent_df = pd.DataFrame(data_formatted.isna().sum()/len(data_formatted)).reset_index() \n",
    "\n",
    "# Rename columns\n",
    "nulls_percent_df.columns = ['column_name', 'nulls_percentage']\n",
    "\n",
    "# Sort column according to % of null values\n",
    "nulls_percent_df.sort_values(['nulls_percentage'], ascending=False)"
   ]
  },
  {
   "cell_type": "code",
   "execution_count": 5,
   "id": "c975abc2-50ff-413d-9c35-b85401f4f6b7",
   "metadata": {},
   "outputs": [],
   "source": [
    "# Create a function to get columns with null values over x %\n",
    "\n",
    "def get_null_columns(df: pd.DataFrame, threshold: float = 0.25) -> list:\n",
    "    '''\n",
    "    This function takes in a pandas DataFrame and returns a list with the \n",
    "    columns with a percentage value of null values above the input threshold.\n",
    "\n",
    "    Input:\n",
    "        df -> pandas DataFrame\n",
    "        threshold -> float, percentage value threshold (i.e 0.25)\n",
    "\n",
    "    Output:\n",
    "        list -> columns with % null values above threshold\n",
    "    '''\n",
    "    \n",
    "    # Get percentage of null values for each column\n",
    "    # Apply reset_index to move column names to a column to convert to DataFrame to be able to apply filters\n",
    "    nulls_percent_df = pd.DataFrame(df.isna().sum()/len(df)).reset_index() \n",
    "\n",
    "    # Rename columns\n",
    "    nulls_percent_df.columns = ['column_name', 'nulls_percentage']\n",
    "\n",
    "    # Filter columns above threshold\n",
    "    columns_above_threshold = nulls_percent_df[nulls_percent_df['nulls_percentage']>threshold]\n",
    "\n",
    "    # Convert to list\n",
    "    drop_columns_list = list(columns_above_threshold['column_name'])\n",
    "\n",
    "    return drop_columns_list\n",
    "\n"
   ]
  },
  {
   "cell_type": "code",
   "execution_count": 6,
   "id": "6575f94c-db23-424a-a681-a48aec4ea508",
   "metadata": {},
   "outputs": [],
   "source": [
    "# Create list of columns to drop\n",
    "drop_list = []\n",
    "\n",
    "# Add 'OSOURCE' and 'ZIP' \n",
    "drop_list += ['osource', 'zip']"
   ]
  },
  {
   "cell_type": "code",
   "execution_count": 7,
   "id": "c3395e33-a13c-4b9d-9daa-8e597e40825f",
   "metadata": {},
   "outputs": [],
   "source": [
    "# Identify columns that over 85% missing values\n",
    "cols_with_nulls_over_85 = get_null_columns(data_formatted, 0.85)\n",
    "\n",
    "# Add them to the previous list\n",
    "drop_list += cols_with_nulls_over_85"
   ]
  },
  {
   "cell_type": "code",
   "execution_count": 8,
   "id": "e2a2bc04-0bd2-4520-8636-2d6fe67122dc",
   "metadata": {},
   "outputs": [],
   "source": [
    "# Remove the columns included in the drop_list from the dataframe\n",
    "data_formatted.drop(columns=drop_list, inplace=True)"
   ]
  },
  {
   "cell_type": "code",
   "execution_count": 9,
   "id": "cdca4343-8edc-4355-b97f-6476f58e0793",
   "metadata": {},
   "outputs": [],
   "source": [
    "# Replace NAs with 'F'\n",
    "data_formatted['gender'] = data_formatted['gender'].fillna('F')"
   ]
  },
  {
   "cell_type": "code",
   "execution_count": 10,
   "id": "73e8cf99-2716-46ae-995b-3c0e328d02c8",
   "metadata": {},
   "outputs": [
    {
     "data": {
      "text/plain": [
       "array(['F', 'M', ' ', 'C', 'U', 'J', 'A'], dtype=object)"
      ]
     },
     "execution_count": 10,
     "metadata": {},
     "output_type": "execute_result"
    }
   ],
   "source": [
    "# Show unique values for gender column\n",
    "data_formatted['gender'].unique()"
   ]
  },
  {
   "cell_type": "code",
   "execution_count": 11,
   "id": "1f1221ee-8890-4756-a9fb-a6a0172432c0",
   "metadata": {},
   "outputs": [],
   "source": [
    "# Replace all values except 'M', 'F' with 'other'\n",
    "data_formatted['gender'] = [ 'other' if x in [' ', 'C', 'U', 'J', 'A'] else x for x in data_formatted['gender']]"
   ]
  },
  {
   "cell_type": "code",
   "execution_count": 12,
   "id": "d0490fdf-0044-4915-8e79-c40dd0bbe144",
   "metadata": {},
   "outputs": [
    {
     "data": {
      "text/plain": [
       "gender\n",
       "F        51277\n",
       "M        39094\n",
       "other     5041\n",
       "Name: count, dtype: int64"
      ]
     },
     "execution_count": 12,
     "metadata": {},
     "output_type": "execute_result"
    }
   ],
   "source": [
    "# Show value counts of gender\n",
    "data_formatted['gender'].value_counts()"
   ]
  },
  {
   "cell_type": "code",
   "execution_count": null,
   "id": "d5862b82-c6dd-4477-9a89-2a35c94775f0",
   "metadata": {},
   "outputs": [],
   "source": []
  }
 ],
 "metadata": {
  "kernelspec": {
   "display_name": "Python 3 (ipykernel)",
   "language": "python",
   "name": "python3"
  },
  "language_info": {
   "codemirror_mode": {
    "name": "ipython",
    "version": 3
   },
   "file_extension": ".py",
   "mimetype": "text/x-python",
   "name": "python",
   "nbconvert_exporter": "python",
   "pygments_lexer": "ipython3",
   "version": "3.10.12"
  }
 },
 "nbformat": 4,
 "nbformat_minor": 5
}
